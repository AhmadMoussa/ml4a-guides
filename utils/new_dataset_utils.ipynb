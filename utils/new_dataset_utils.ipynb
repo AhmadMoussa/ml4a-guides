{
 "cells": [
  {
   "cell_type": "code",
   "execution_count": 82,
   "metadata": {},
   "outputs": [],
   "source": [
    "import os\n",
    "#from os import listdir\n",
    "#from os.path import isfile, join\n",
    "from random import random, sample\n",
    "import argparse\n",
    "from tqdm import tqdm\n",
    "import numpy as np\n",
    "from PIL import Image\n",
    "\n",
    "from imutils import video\n",
    "\n",
    "import cv2\n",
    "\n",
    "parser = argparse.ArgumentParser()\n",
    "\n",
    "# input, output\n",
    "parser.add_argument(\"--input_dir\", help=\"where to get input images\")\n",
    "parser.add_argument(\"--output_dir\", help=\"where to put output images\")\n",
    "parser.add_argument(\"--max_num_images\", type=int, help=\"maximum number of images to take (omit to use all)\", default=None)\n",
    "parser.add_argument(\"--shuffle\", action=\"store_true\", help=\"shuffle image\")\n",
    "\n",
    "#args = parser.parse_args()\n",
    "\n",
    "#args.num_augment, args.w, args.h, args.frac, args.frac_vary, args.max_ang, args.max_stretch, args.centered\n",
    "# no aug\n",
    "# n=1, w2, h2, frac=1.0, frac_vary=0.0, max_ang=0, max_stretch=0, centered=True\n",
    "\n",
    "#min_w, min_h = 512\n",
    "\n",
    "allowable_actions = ['none', 'quantize', 'trace', 'hed', 'segment', 'simplify']\n",
    "\n",
    "\n",
    "def cv2pil(img):\n",
    "    if len(img.shape) == 2 or img.shape[2]==1:\n",
    "        cv2_im = cv2.cvtColor(img, cv2.COLOR_GRAY2RGB)\n",
    "    else:\n",
    "        cv2_im = cv2.cvtColor(img, cv2.COLOR_BGR2RGB)\n",
    "    pil_im = Image.fromarray(cv2_im.astype('uint8'))\n",
    "    return pil_im\n",
    "\n",
    "def pil2cv(img):\n",
    "    pil_image = img.convert('RGB') \n",
    "    cv2_image = np.array(pil_image) \n",
    "    cv2_image = cv2.cvtColor(cv2_image, cv2.COLOR_RGB2BGR)\n",
    "    cv2_image = cv2_image[:, :, ::-1].copy()\n",
    "    return cv2_image\n",
    "    \n",
    "def try_make_dir(new_dir):\n",
    "    if not os.path.isdir(new_dir):\n",
    "        os.mkdir(new_dir)\n"
   ]
  },
  {
   "cell_type": "code",
   "execution_count": 2,
   "metadata": {},
   "outputs": [
    {
     "ename": "NameError",
     "evalue": "name 'listdir' is not defined",
     "output_type": "error",
     "traceback": [
      "\u001b[0;31m---------------------------------------------------------------------------\u001b[0m",
      "\u001b[0;31mNameError\u001b[0m                                 Traceback (most recent call last)",
      "\u001b[0;32m<ipython-input-2-cc1361636b95>\u001b[0m in \u001b[0;36m<module>\u001b[0;34m()\u001b[0m\n\u001b[1;32m      2\u001b[0m \u001b[0;34m\u001b[0m\u001b[0m\n\u001b[1;32m      3\u001b[0m \u001b[0;31m# cycle through input images\u001b[0m\u001b[0;34m\u001b[0m\u001b[0;34m\u001b[0m\u001b[0m\n\u001b[0;32m----> 4\u001b[0;31m \u001b[0mimages\u001b[0m \u001b[0;34m=\u001b[0m \u001b[0;34m[\u001b[0m\u001b[0mf\u001b[0m \u001b[0;32mfor\u001b[0m \u001b[0mf\u001b[0m \u001b[0;32min\u001b[0m \u001b[0mlistdir\u001b[0m\u001b[0;34m(\u001b[0m\u001b[0minput_dir\u001b[0m\u001b[0;34m)\u001b[0m \u001b[0;32mif\u001b[0m \u001b[0misfile\u001b[0m\u001b[0;34m(\u001b[0m\u001b[0mjoin\u001b[0m\u001b[0;34m(\u001b[0m\u001b[0minput_dir\u001b[0m\u001b[0;34m,\u001b[0m \u001b[0mf\u001b[0m\u001b[0;34m)\u001b[0m\u001b[0;34m)\u001b[0m \u001b[0;34m]\u001b[0m\u001b[0;34m\u001b[0m\u001b[0m\n\u001b[0m\u001b[1;32m      5\u001b[0m \u001b[0msort_order\u001b[0m \u001b[0;34m=\u001b[0m \u001b[0msorted\u001b[0m\u001b[0;34m(\u001b[0m\u001b[0mrange\u001b[0m\u001b[0;34m(\u001b[0m\u001b[0mmin\u001b[0m\u001b[0;34m(\u001b[0m\u001b[0mnum_images\u001b[0m \u001b[0;32mif\u001b[0m \u001b[0mnum_images\u001b[0m \u001b[0;32mis\u001b[0m \u001b[0;32mnot\u001b[0m \u001b[0;32mNone\u001b[0m \u001b[0;32melse\u001b[0m \u001b[0;36m1e8\u001b[0m\u001b[0;34m,\u001b[0m \u001b[0mlen\u001b[0m\u001b[0;34m(\u001b[0m\u001b[0mimages\u001b[0m\u001b[0;34m)\u001b[0m\u001b[0;34m)\u001b[0m\u001b[0;34m)\u001b[0m\u001b[0;34m)\u001b[0m\u001b[0;34m\u001b[0m\u001b[0m\n\u001b[1;32m      6\u001b[0m \u001b[0;32mif\u001b[0m \u001b[0mshuffle\u001b[0m\u001b[0;34m:\u001b[0m\u001b[0;34m\u001b[0m\u001b[0m\n",
      "\u001b[0;31mNameError\u001b[0m: name 'listdir' is not defined"
     ]
    }
   ],
   "source": [
    "\n",
    "\n",
    "# cycle through input images\n",
    "images = [f for f in listdir(input_dir) if isfile(join(input_dir, f)) ]\n",
    "sort_order = sorted(range(min(num_images if num_images is not None else 1e8, len(images))))\n",
    "if shuffle:\n",
    "    sort_order = sorted(sample(range(len(images)), min(num_images if num_images is not None else 1e8, len(images))))\n",
    "images = [images[i] for i in sort_order]\n"
   ]
  },
  {
   "cell_type": "code",
   "execution_count": 153,
   "metadata": {},
   "outputs": [
    {
     "name": "stderr",
     "output_type": "stream",
     "text": [
      "100%|██████████| 5/5 [00:00<00:00, 14.10it/s]\n"
     ]
    }
   ],
   "source": [
    "\n",
    "\n",
    "#input_src = '../datasets/trump_sub_short.mp4'\n",
    "input_src = '../datasets/futurium/landscape_subset'\n",
    "shuffle = False\n",
    "max_num_images = 5\n",
    "\n",
    "\n",
    "ext = os.path.splitext(input_src)[1]\n",
    "is_movie = ext.lower() in ['.mp4','.mov','.avi']\n",
    "\n",
    "\n",
    "\n",
    "def get_frame_indexes(max_num_images, num_images, shuffle):\n",
    "    if shuffle:\n",
    "        sort_order = sample(range(num_images), min(max_num_images if max_num_images is not None else 1e8, num_images))\n",
    "    else:\n",
    "        sort_order = sorted(range(min(max_num_images if max_num_images is not None else 1e8, num_images)))\n",
    "    return sort_order\n",
    "\n",
    "\n",
    "zzz = 'dfkjsdfkjs'\n",
    "\n",
    "\n",
    "def crop_rot_resize(img, frac, w2, h2, ang, stretch, centered):\n",
    "    if img.height < h2 or img.width < w2:\n",
    "        img = upsample(img, w2, h2)\n",
    "    \n",
    "    if stretch != 0:\n",
    "        v = random() < 0.5\n",
    "        h = 1.0 if not v else (1.0 + stretch)\n",
    "        w = 1.0 if v else (1.0 + stretch)\n",
    "        img = img.resize((int(img.width * w), int(img.height * h)), resample=Image.BICUBIC)\n",
    "        \n",
    "    if ang > 0:\n",
    "        img = img.rotate(ang, resample=Image.BICUBIC, expand=False)\n",
    "   \n",
    "    ar = float(w2 / h2)\n",
    "    h1, w1 = img.height, img.width\n",
    "\n",
    "    if float(w1) / h1 > ar:\n",
    "        h1_crop = max(h2, h1 * frac)\n",
    "        w1_crop = h1_crop * ar\n",
    "    else:\n",
    "        w1_crop = max(w2, w1 * frac)\n",
    "        h1_crop = w1_crop / ar\n",
    "\n",
    "    #xr, yr = 0.275 + 0.45*random(), 0.275 + 0.45*random()\n",
    "    xr, yr = random(), random()\n",
    "    x_crop, y_crop = (w1 - w1_crop - 1) * xr, (h1 - h1_crop - 1) * yr\n",
    "    h1_crop, w1_crop, y_crop, x_crop = int(h1_crop), int(w1_crop), int(y_crop), int(x_crop)\n",
    "    img_crop = img.crop((x_crop, y_crop, x_crop+w1_crop, y_crop+h1_crop))\n",
    "    img_resize = img_crop.resize((w2, h2))\n",
    "    \n",
    "    return img_resize\n",
    "\n",
    "\n",
    "def augmentation(img):#, args):\n",
    "    #n, w2, h2, frac, frac_vary, max_ang, max_stretch, centered = args.num_augment, args.w, args.h, args.frac, args.frac_vary, args.max_ang, args.max_stretch, args.centered\n",
    "    n, w2, h2, frac, frac_vary, max_ang, max_stretch, centered = 2, 256, 256, 0.9, 0.05, 0, 0, False\n",
    "    imgs = []\n",
    "    for n in range(n):\n",
    "        ang = max_ang * (-1.0 + 2.0 * random())\n",
    "        frac_amt = frac + frac_vary * (-1.0 + 2.0 * random())\n",
    "        stretch = max_stretch * (-1.0 + 2.0 * random())\n",
    "        newimg = crop_rot_resize(img, frac_amt, w2, h2, ang, stretch, centered)\n",
    "        imgs.append(newimg)\n",
    "    return imgs\n",
    "\n",
    "\n",
    "def process_image(orig_img):\n",
    "    actions = ['s']\n",
    "    imgs0, imgs1 = augmentation(orig_img), []\n",
    "    \n",
    "    for img0 in imgs0:\n",
    "        img = img0\n",
    "        for a in actions:\n",
    "            if a != 'dkfsdf':\n",
    "                pass\n",
    "        imgs1.append(img)\n",
    "\n",
    "    return imgs0, imgs1\n",
    "    \n",
    "    \n",
    "def main(): #args\n",
    "    \n",
    "    output_dir = 'test55'\n",
    "    action = 'trace,simplify'\n",
    "    save_ext = 'png'\n",
    "    save_mode = 'split' # 'combined', 'split', 'output_only'\n",
    "    pct_test = 0.2\n",
    "    num_per = 3\n",
    "    min_w, min_h = 512, 512\n",
    "    w, h = 1024, 512\n",
    "    \n",
    "    # split, pct_test>0         train/train_A,train_B   test/test_A,test_B\n",
    "    # combined, pct_test>0      train/                  test/\n",
    "    # output_only, pct_test>0   train/                  test/\n",
    "\n",
    "    # split, pct_test=0         train_A,train_B\n",
    "    # combined, pct_test=0      .\n",
    "    # output_only, pct_test=0   . \n",
    "    \n",
    "    # get list of actions\n",
    "    actions = action.split(',')\n",
    "    if False in [a in allowable_actions for a in actions]:\n",
    "        raise Exception('one of your actions does not exist')\n",
    "\n",
    "    # setup output directories\n",
    "    output_dir = output_dir #args.output_dir\n",
    "    output_train_dir = os.path.join(output_dir, 'train')\n",
    "    output_test_dir = os.path.join(output_dir, 'test')\n",
    "    \n",
    "    if pct_test > 0:\n",
    "        if save_mode == 'split':\n",
    "            output_trainA_dir = os.path.join(output_train_dir, 'train_A')\n",
    "            output_testA_dir = os.path.join(output_test_dir, 'test_A')\n",
    "            output_trainB_dir = os.path.join(output_train_dir, 'train_B')\n",
    "            output_testB_dir = os.path.join(output_test_dir, 'test_B')\n",
    "        else:\n",
    "            output_trainA_dir = output_train_dir\n",
    "            output_testA_dir = output_test_dir\n",
    "            output_trainB_dir = output_train_dir\n",
    "            output_testB_dir = output_test_dir\n",
    "    elif save_mode == 'split':\n",
    "        output_trainA_dir = join(output_dir, 'train_A')\n",
    "        output_trainB_dir = join(output_dir, 'train_B')\n",
    "    else:\n",
    "        output_trainA_dir = output_dir\n",
    "        output_trainB_dir = output_dir\n",
    "        \n",
    "    try_make_dir(output_dir)   \n",
    "    \n",
    "    try_make_dir(output_train_dir)\n",
    "    try_make_dir(output_trainA_dir)\n",
    "    try_make_dir(output_trainB_dir)\n",
    "\n",
    "    if pct_test > 0:\n",
    "        try_make_dir(output_test_dir)\n",
    "        try_make_dir(output_testA_dir)\n",
    "        try_make_dir(output_testB_dir)\n",
    "    \n",
    "    # initialize input stream\n",
    "    if is_movie:\n",
    "        cap = cv2.VideoCapture(input_src)\n",
    "        fps = video.FPS().start()\n",
    "        num_images = int(cap.get(cv2.CAP_PROP_FRAME_COUNT))\n",
    "        pct_frames = list(np.linspace(0, 1, num_images))\n",
    "        all_frames = get_frame_indexes(max_num_images, num_images, shuffle)\n",
    "\n",
    "    else:\n",
    "        images = [f for f in os.listdir(input_src) if os.path.isfile(os.path.join(input_src, f)) ]\n",
    "        num_images = len(images)\n",
    "        all_frames = get_frame_indexes(max_num_images, num_images, shuffle)\n",
    "\n",
    "    # training/test split\n",
    "    training = [1] * len(all_frames) * num_per\n",
    "    if pct_test > 0:\n",
    "        n_test = int(len(all_frames) * num_per * pct_test)\n",
    "        test_per = 1.0 / pct_test\n",
    "        test_idx = [int(test_per * (i+1) - 1) for i in range(n_test)]\n",
    "        for t in test_idx:\n",
    "            training[t] = 0\n",
    "\n",
    "\n",
    "    # iterate through each input\n",
    "    for idx_frame in tqdm(all_frames):\n",
    "\n",
    "        if is_movie:\n",
    "            pct_frame = pct_frames[idx_frame]\n",
    "            frame = int(pct_frame * num_images)\n",
    "            cap.set(1, frame);\n",
    "            ret, img = cap.read()\n",
    "            frame_name = 'frame%06d' % frame\n",
    "            img = cv2pil(img)\n",
    "        else:\n",
    "            img_path = images[idx_frame]\n",
    "            frame_name = os.path.splitext(img_path)[0]\n",
    "            img = Image.open(os.path.join(input_src, img_path)).convert(\"RGB\")\n",
    "\n",
    "        # skip images which are too small\n",
    "        if img.width < min_w or img.height < min_h:\n",
    "            continue\n",
    "\n",
    "        imgs0, imgs1 = process_image(img)\n",
    "\n",
    "        for i, (img0, img1) in enumerate(zip(imgs0, imgs1)):\n",
    "            \n",
    "            out_name = '%05d%s_%s.%s' % (idx_frame, '_%02d'%i if num_per>1 else '', frame_name, save_ext)\n",
    "            is_train = training[num_per * idx_frame + i]\n",
    "            \n",
    "            if save_mode == 'combined':\n",
    "                output_dir = output_trainA_dir if is_train else output_testA_dir\n",
    "                img2 = Image.new('RGB', (w * 2, h))     \n",
    "                img2.paste(img0.convert('RGB'), (0, 0))\n",
    "                img2.paste(img1.convert('RGB'), (w, 0))\n",
    "                img2.save(os.path.join(output_dir, out_name))\n",
    "            \n",
    "            else:\n",
    "                outputA_dir = output_trainA_dir if is_train else output_testA_dir\n",
    "                img0.convert('RGB').save(os.path.join(outputA_dir, out_name))\n",
    "                if save_mode == 'split':\n",
    "                    outputB_dir = output_trainB_dir if is_train else output_testB_dir\n",
    "                    img1.convert('RGB').save(os.path.join(outputB_dir, out_name))\n",
    "                \n",
    "\n",
    "\n",
    "\n",
    "main()\n",
    "    "
   ]
  },
  {
   "cell_type": "code",
   "execution_count": 58,
   "metadata": {},
   "outputs": [
    {
     "data": {
      "text/plain": [
       "600.0"
      ]
     },
     "execution_count": 58,
     "metadata": {},
     "output_type": "execute_result"
    }
   ],
   "source": [
    "num_frames"
   ]
  },
  {
   "cell_type": "code",
   "execution_count": 88,
   "metadata": {},
   "outputs": [
    {
     "data": {
      "text/plain": [
       "21.73913043478261"
      ]
     },
     "execution_count": 88,
     "metadata": {},
     "output_type": "execute_result"
    }
   ],
   "source": [
    "5 / 0.23"
   ]
  },
  {
   "cell_type": "code",
   "execution_count": 146,
   "metadata": {},
   "outputs": [
    {
     "name": "stdout",
     "output_type": "stream",
     "text": [
      "0\n",
      "[]\n"
     ]
    }
   ],
   "source": [
    "all_frames = list(range(4))\n",
    "pct_test = 0.2\n",
    "\n",
    "training = [1] * len(all_frames)\n",
    "if pct_test > 0:\n",
    "    n_test = int(len(all_frames) * pct_test)\n",
    "    test_per = 1.0 / pct_test\n",
    "    print(n_test)\n",
    "    test_idx = [int(test_per * (i+1) - 1) for i in range(n_test)]\n",
    "    print(test_idx)\n",
    "    for t in test_idx:\n",
    "        training[t] = 0\n"
   ]
  },
  {
   "cell_type": "code",
   "execution_count": 93,
   "metadata": {},
   "outputs": [
    {
     "name": "stdout",
     "output_type": "stream",
     "text": [
      "[0, 1, 2, 3, 4]\n"
     ]
    }
   ],
   "source": [
    "print(all_frames)"
   ]
  },
  {
   "cell_type": "code",
   "execution_count": 110,
   "metadata": {},
   "outputs": [
    {
     "data": {
      "text/plain": [
       "[0, 3, 6, 9, 12, 15, 18, 21]"
      ]
     },
     "execution_count": 110,
     "metadata": {},
     "output_type": "execute_result"
    }
   ],
   "source": [
    "test_idx"
   ]
  },
  {
   "cell_type": "code",
   "execution_count": 111,
   "metadata": {},
   "outputs": [],
   "source": [
    "training = [1] * len(all_frames)"
   ]
  },
  {
   "cell_type": "code",
   "execution_count": 118,
   "metadata": {},
   "outputs": [
    {
     "data": {
      "text/plain": [
       "1"
      ]
     },
     "execution_count": 118,
     "metadata": {},
     "output_type": "execute_result"
    }
   ],
   "source": [
    "training[test_idx[0]]"
   ]
  },
  {
   "cell_type": "code",
   "execution_count": 113,
   "metadata": {},
   "outputs": [
    {
     "ename": "TypeError",
     "evalue": "list indices must be integers or slices, not list",
     "output_type": "error",
     "traceback": [
      "\u001b[0;31m---------------------------------------------------------------------------\u001b[0m",
      "\u001b[0;31mTypeError\u001b[0m                                 Traceback (most recent call last)",
      "\u001b[0;32m<ipython-input-113-5944a4aa1689>\u001b[0m in \u001b[0;36m<module>\u001b[0;34m()\u001b[0m\n\u001b[0;32m----> 1\u001b[0;31m \u001b[0mtraining\u001b[0m\u001b[0;34m[\u001b[0m\u001b[0mtest_idx\u001b[0m\u001b[0;34m]\u001b[0m\u001b[0;34m\u001b[0m\u001b[0m\n\u001b[0m",
      "\u001b[0;31mTypeError\u001b[0m: list indices must be integers or slices, not list"
     ]
    }
   ],
   "source": [
    "training[test_idx]"
   ]
  },
  {
   "cell_type": "code",
   "execution_count": null,
   "metadata": {},
   "outputs": [],
   "source": []
  }
 ],
 "metadata": {
  "kernelspec": {
   "display_name": "Python 3",
   "language": "python",
   "name": "python3"
  },
  "language_info": {
   "codemirror_mode": {
    "name": "ipython",
    "version": 3
   },
   "file_extension": ".py",
   "mimetype": "text/x-python",
   "name": "python",
   "nbconvert_exporter": "python",
   "pygments_lexer": "ipython3",
   "version": "3.5.2"
  }
 },
 "nbformat": 4,
 "nbformat_minor": 2
}
